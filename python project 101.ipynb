{
 "cells": [
  {
   "cell_type": "code",
   "execution_count": 33,
   "id": "8fdf9f23",
   "metadata": {},
   "outputs": [
    {
     "name": "stdout",
     "output_type": "stream",
     "text": [
      "Common employees: ['Mahesh', 'Ali', 'Jacob']\n"
     ]
    }
   ],
   "source": [
    "# Q1: You are working in a bank, and you have been given two lists of the employees who worked in 2021. \n",
    "# Employees’ names in list 1 are Ramesh, Suresh, Mahesh, Ali, Jacob, and Saritha. \n",
    "# List 2 contains the names of Ali, Mukesh, Mahesh, Jacob, Sai, and Sarita. \n",
    "# Please write a program that helps to identify people who are common in both lists. Please do not use any in-built function. \n",
    "\n",
    "list1 = [\"Ramesh\", \"Suresh\", \"Mahesh\", \"Ali\", \"Jacob\", \"Saritha\"]\n",
    "list2 = [\"Ali\", \"Mukesh\", \"Mahesh\", \"Jacob\", \"Sai\", \"Sarita\"]\n",
    "\n",
    "common_employees = []\n",
    "\n",
    "for i in list1:\n",
    "    for j in list2:\n",
    "        if i == j:\n",
    "            common_employees.append(i)\n",
    "            break \n",
    "print(\"Common employees:\", common_employees)\n"
   ]
  },
  {
   "cell_type": "code",
   "execution_count": 50,
   "id": "e4249a5c",
   "metadata": {},
   "outputs": [
    {
     "name": "stdout",
     "output_type": "stream",
     "text": [
      "['Ramesh', 'Suresh', 'Mohit']\n",
      "Total_age : 73\n"
     ]
    }
   ],
   "source": [
    "# Q2: While entering data, someone entered a few names as a common string “Ramesh Suresh Mohit”. \n",
    "# Please write a program which separates all the names and converts them into a list. Once converted into a list, \n",
    "# please write a program that adds their age. \n",
    "\n",
    "# Ramesh:  25\n",
    "# Suresh: 22\n",
    "# Mohit: 26\n",
    "\n",
    "string = \"Ramesh Suresh Mohit\"\n",
    "words = string.split()\n",
    "listed_string = list(words)\n",
    "print(listed_string)\n",
    "\n",
    "dict = {'Ramesh' : 25,\n",
    "        'Suresh' : 22,\n",
    "        'Mohit'  : 26\n",
    "    }\n",
    "\n",
    "sum_of_ages = 0\n",
    "\n",
    "for names in words:\n",
    "    sum_of_ages += dict[names]\n",
    "print(\"Total_age :\" , sum_of_ages)"
   ]
  },
  {
   "cell_type": "code",
   "execution_count": 32,
   "id": "cfde4c83",
   "metadata": {},
   "outputs": [
    {
     "name": "stdout",
     "output_type": "stream",
     "text": [
      "Total cost of Paracetamol: Rs 70\n",
      "Total cost of Azithromycin: Rs 147\n",
      "Total cost of Vitamin C: Rs 165\n",
      "Total cost of all medicines: Rs 382\n",
      "Refund to the patient: Rs 1618\n"
     ]
    }
   ],
   "source": [
    "# Q3: You are working in a medical store. A patient came to your medical store and asked to buy \n",
    "# 2 strips of paracetamol, 3 strips of azithromycin, and 5 strips of Vitamin C. \n",
    "# One strip of paracetamol costs Rs 35, one strip of azithromycin costs Rs 49, and one strip of vitamin c costs Rs. 33. \n",
    "# Patient gave you Rs 2000. Please tell us what is the total cost of each medicine, the total cost of all medicine, \n",
    "# and how much money you refunded to the patient.\n",
    "\n",
    "medicines = [\n",
    "    {\"name\": \"Paracetamol\", \"price\": 35, \"strips\": 2},\n",
    "    {\"name\": \"Azithromycin\", \"price\": 49, \"strips\": 3},\n",
    "    {\"name\": \"Vitamin C\", \"price\": 33, \"strips\": 5}\n",
    "]\n",
    "\n",
    "amount_paid = 2000\n",
    "total_cost = 0\n",
    "\n",
    "for tablet in medicines:\n",
    "    medicine_cost = tablet[\"price\"] * tablet[\"strips\"]\n",
    "    total_cost += medicine_cost\n",
    "    print(f\"Total cost of {tablet['name']}: Rs {medicine_cost}\")\n",
    "\n",
    "print(f\"Total cost of all medicines: Rs {total_cost}\")\n",
    "\n",
    "refund_amount = amount_paid - total_cost\n",
    "print(f\"Refund to the patient: Rs {refund_amount}\")\n"
   ]
  },
  {
   "cell_type": "code",
   "execution_count": 67,
   "id": "4a07ff40",
   "metadata": {},
   "outputs": [
    {
     "name": "stdout",
     "output_type": "stream",
     "text": [
      "number of vowels : 14\n"
     ]
    }
   ],
   "source": [
    "# Q4: Accept a sentence as input and find the number of vowels in it. \n",
    "# Assume that the sentence has no punctuation marks. For example, I am learning python contains 6 vowels. \n",
    "# This function should be applicable for all other different sentences.\n",
    "\n",
    "sentence = \"i am learning python in an odin school platform\"\n",
    "vowels = ['a','e','i','o','u']\n",
    "\n",
    "count = 0\n",
    "\n",
    "for i in sentence:\n",
    "    if i in vowels:\n",
    "        count +=1\n",
    "print(\"number of vowels :\",count)\n",
    "        "
   ]
  },
  {
   "cell_type": "code",
   "execution_count": 71,
   "id": "f3b51cba",
   "metadata": {},
   "outputs": [
    {
     "name": "stdout",
     "output_type": "stream",
     "text": [
      "Enter the candidate age:15\n",
      "Return after 3 years,then you meet the eligibility.\n"
     ]
    }
   ],
   "source": [
    "# Q5: You have been appointed by the election commission to create a website. \n",
    "# Your first task is to work on a program which tells candidates if they are eligible for voting or not. \n",
    "# If they are eligible, your output should be ‘Congrats! You are eligible’; otherwise, \n",
    "# it should tell that you have to return after X number of years. The eligibility criteria for voting is 18 years.\n",
    "# For example, If someone is 18 or above, your output should be ‘Congrats! You are eligible’. \n",
    "# If someone’s age is 15 years, it should print output as ‘return after 3 years’.   \n",
    "\n",
    "age = int(input(\"Enter the candidate age:\"))\n",
    "age_for_voting = 18\n",
    "\n",
    "if age >= 18:\n",
    "    print(\"Congrats! You are eligible for voting\")\n",
    "else:\n",
    "    returning_age = age_for_voting - age\n",
    "    print(\"Return after {} years,then you meet the eligibility.\".format(returning_age))"
   ]
  },
  {
   "cell_type": "code",
   "execution_count": 77,
   "id": "92f451c7",
   "metadata": {},
   "outputs": [
    {
     "name": "stdout",
     "output_type": "stream",
     "text": [
      "[1, 3, 6, 10, 15]\n"
     ]
    }
   ],
   "source": [
    "# Q6: Given a list of integers, find the cumulative sum of the elements of the list and store them in another list.\n",
    "# A = [1, 2, 3, 4, 5]\n",
    "\n",
    "A = [1, 2, 3, 4, 5]\n",
    "\n",
    "sum = 0\n",
    "cumulative_sum = []\n",
    "\n",
    "for num in A:\n",
    "    sum += num\n",
    "    cumulative_sum.append(sum)\n",
    "print(cumulative_sum)"
   ]
  },
  {
   "cell_type": "code",
   "execution_count": 20,
   "id": "10234eaf",
   "metadata": {},
   "outputs": [
    {
     "data": {
      "text/plain": [
       "'Th qck brwn fx sd t slp nsd ths bxTh qck brwn fx sd t slp nsd ths bxTh qck brwn fx sd t slp nsd ths bxTh qck brwn fx sd t slp nsd ths bxTh qck brwn fx sd t slp nsd ths bxTh qck brwn fx sd t slp nsd ths bxTh qck brwn fx sd t slp nsd ths bxTh qck brwn fx sd t slp nsd ths bxTh qck brwn fx sd t slp nsd ths bxTh qck brwn fx sd t slp nsd ths bx'"
      ]
     },
     "execution_count": 20,
     "metadata": {},
     "output_type": "execute_result"
    }
   ],
   "source": [
    "# Q7: WAP to encode a message entered by user as per below conditions:\n",
    "# for every word in the sentence, \n",
    "# 1. If the word starts with a vowel, encode it as the first and last letter of the word.\n",
    "# 2. If the word starts with a consonant, remove all vowels from it.\n",
    "# Ensure the case insensitive comparisons/checks are performed.\n",
    "# Please enter your text:The quick brown fox used to sleep inside this box\n",
    "# Encoded Msg: Th qck brwn fx ud t slp ie ths bx\n",
    "\n",
    "def text(string):\n",
    "    vowels = ['a','e','i','o','u']\n",
    "    words = string.split()\n",
    "    result = \"\"\n",
    "    \n",
    "    for letter in words:\n",
    "        if letter in vowels:\n",
    "            result.append(word[0]+word[-1])\n",
    "        else:\n",
    "            for letter in string:\n",
    "                if letter not in vowels:\n",
    "                    result = result + letter\n",
    "    return result\n",
    "\n",
    "text(\"The quick brown fox used to sleep inside this box\")\n",
    "\n",
    "            "
   ]
  },
  {
   "cell_type": "code",
   "execution_count": 34,
   "id": "126bc4f2",
   "metadata": {},
   "outputs": [
    {
     "name": "stdout",
     "output_type": "stream",
     "text": [
      "Enter the input to be encoded:aabbbccdddae\n",
      "Encoded: 2a3b2c3d1a1e\n"
     ]
    }
   ],
   "source": [
    "# Q8: Write a program to implement run length encoding of a string\n",
    "# RLE:Consecutive repetition of a character has to be replaced with the count of occurrences and the character.\n",
    "# Enter your string :aabbbccdddae\n",
    "# Encoded: 2a3b2c3d1a1e\n",
    "\n",
    "def encode(message):\n",
    "    encoded_message = \"\"\n",
    "    i = 0\n",
    "    while (i<=len(message)-1):\n",
    "        count = 1\n",
    "        char = message[i]\n",
    "        j = i\n",
    "        while(j<len(message)-1):\n",
    "            if message[j]==message[j+1]:\n",
    "                count=count+1\n",
    "                j = j+1\n",
    "            else:\n",
    "                break\n",
    "        encoded_message = encoded_message + str(count) + char\n",
    "        i = j+1\n",
    "    return encoded_message\n",
    "    \n",
    "    \n",
    "                \n",
    "text = input(\"Enter the input to be encoded:\")\n",
    "encoded_message = encode(text)\n",
    "print(\"Encoded:\",encoded_message)"
   ]
  },
  {
   "cell_type": "code",
   "execution_count": null,
   "id": "e1e44997",
   "metadata": {},
   "outputs": [],
   "source": []
  },
  {
   "cell_type": "code",
   "execution_count": null,
   "id": "5ec12af1",
   "metadata": {},
   "outputs": [],
   "source": []
  }
 ],
 "metadata": {
  "kernelspec": {
   "display_name": "Python 3 (ipykernel)",
   "language": "python",
   "name": "python3"
  },
  "language_info": {
   "codemirror_mode": {
    "name": "ipython",
    "version": 3
   },
   "file_extension": ".py",
   "mimetype": "text/x-python",
   "name": "python",
   "nbconvert_exporter": "python",
   "pygments_lexer": "ipython3",
   "version": "3.11.3"
  }
 },
 "nbformat": 4,
 "nbformat_minor": 5
}
